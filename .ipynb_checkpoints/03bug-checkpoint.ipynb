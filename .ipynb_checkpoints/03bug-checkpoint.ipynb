{
 "cells": [
  {
   "cell_type": "code",
   "execution_count": null,
   "metadata": {
    "collapsed": true
   },
   "outputs": [],
   "source": [
    "# Something weird happens when you run this code.\n",
    "# Find something that is not quite right.\n",
    "# Figure out which compilation modes make the problem more obvious.\n",
    "# Explain why what is happening is happening.\n",
    "import numpy as np\n",
    "from theano import function\n",
    "from theano import tensor as T\n",
    "x = T.vector()\n",
    "y = T.vector()\n",
    "z = T.zeros_like(y)\n",
    "a = x + z\n",
    "f = function([x, y], a)\n",
    "output = f(np.zeros((1,), dtype=x.dtype), np.zeros((2,), dtype=y.dtype))"
   ]
  }
 ],
 "metadata": {
  "kernelspec": {
   "display_name": "Python 2",
   "language": "python",
   "name": "python2"
  },
  "language_info": {
   "codemirror_mode": {
    "name": "ipython",
    "version": 2
   },
   "file_extension": ".py",
   "mimetype": "text/x-python",
   "name": "python",
   "nbconvert_exporter": "python",
   "pygments_lexer": "ipython2",
   "version": "2.7.9"
  }
 },
 "nbformat": 4,
 "nbformat_minor": 0
}
